{
  "nbformat": 4,
  "nbformat_minor": 0,
  "metadata": {
    "colab": {
      "provenance": [],
      "authorship_tag": "ABX9TyPoR/fOT60XGHwk0H8R3JeQ",
      "include_colab_link": true
    },
    "kernelspec": {
      "name": "python3",
      "display_name": "Python 3"
    },
    "language_info": {
      "name": "python"
    }
  },
  "cells": [
    {
      "cell_type": "markdown",
      "metadata": {
        "id": "view-in-github",
        "colab_type": "text"
      },
      "source": [
        "<a href=\"https://colab.research.google.com/github/shruthits02/Currency-Converter/blob/main/Currency_Converter.ipynb\" target=\"_parent\"><img src=\"https://colab.research.google.com/assets/colab-badge.svg\" alt=\"Open In Colab\"/></a>"
      ]
    },
    {
      "cell_type": "code",
      "source": [
        "pip install forex-python"
      ],
      "metadata": {
        "colab": {
          "base_uri": "https://localhost:8080/"
        },
        "id": "EkYpWO8TJRiJ",
        "outputId": "21edf891-5c9c-4be0-d1df-ca39ae80612b"
      },
      "execution_count": 1,
      "outputs": [
        {
          "output_type": "stream",
          "name": "stdout",
          "text": [
            "Collecting forex-python\n",
            "  Downloading forex_python-1.8-py3-none-any.whl (8.2 kB)\n",
            "Requirement already satisfied: requests in /usr/local/lib/python3.10/dist-packages (from forex-python) (2.31.0)\n",
            "Collecting simplejson (from forex-python)\n",
            "  Downloading simplejson-3.19.2-cp310-cp310-manylinux_2_5_x86_64.manylinux1_x86_64.manylinux_2_17_x86_64.manylinux2014_x86_64.whl (137 kB)\n",
            "\u001b[2K     \u001b[90m━━━━━━━━━━━━━━━━━━━━━━━━━━━━━━━━━━━━━━━━\u001b[0m \u001b[32m137.9/137.9 kB\u001b[0m \u001b[31m2.2 MB/s\u001b[0m eta \u001b[36m0:00:00\u001b[0m\n",
            "\u001b[?25hRequirement already satisfied: charset-normalizer<4,>=2 in /usr/local/lib/python3.10/dist-packages (from requests->forex-python) (3.3.2)\n",
            "Requirement already satisfied: idna<4,>=2.5 in /usr/local/lib/python3.10/dist-packages (from requests->forex-python) (3.6)\n",
            "Requirement already satisfied: urllib3<3,>=1.21.1 in /usr/local/lib/python3.10/dist-packages (from requests->forex-python) (2.0.7)\n",
            "Requirement already satisfied: certifi>=2017.4.17 in /usr/local/lib/python3.10/dist-packages (from requests->forex-python) (2023.11.17)\n",
            "Installing collected packages: simplejson, forex-python\n",
            "Successfully installed forex-python-1.8 simplejson-3.19.2\n"
          ]
        }
      ]
    },
    {
      "cell_type": "code",
      "source": [
        "# Install the forex-python library first:\n",
        "# pip install forex-python\n",
        "\n",
        "from forex_python.converter import CurrencyRates\n",
        "\n",
        "def currency_converter():\n",
        "    # Create a CurrencyRates object\n",
        "    c = CurrencyRates()\n",
        "\n",
        "    print(\"Welcome to the Currency Converter!\")\n",
        "\n",
        "    # Display a list of available currencies\n",
        "    currencies = c.get_rates('USD')\n",
        "    print(\"Available Currencies:\")\n",
        "    for currency, rate in currencies.items():\n",
        "        print(f\"{currency}: {rate}\")\n",
        "\n",
        "    # Get user input\n",
        "    from_currency = input(\"Enter the currency code you want to convert from (e.g., USD): \").upper()\n",
        "    to_currency = input(\"Enter the currency code you want to convert to (e.g., EUR): \").upper()\n",
        "    amount = float(input(\"Enter the amount to convert: \"))\n",
        "\n",
        "    # Check if the entered currencies are valid\n",
        "    if from_currency not in currencies or to_currency not in currencies:\n",
        "        print(\"Invalid currency codes. Please enter valid codes.\")\n",
        "        return\n",
        "\n",
        "    # Convert the currency\n",
        "    converted_amount = c.convert(from_currency, to_currency, amount)\n",
        "\n",
        "    # Display the result\n",
        "    print(f\"{amount} {from_currency} is equal to {converted_amount:.2f} {to_currency}\")\n",
        "\n",
        "if __name__ == \"__main__\":\n",
        "    currency_converter()\n"
      ],
      "metadata": {
        "colab": {
          "base_uri": "https://localhost:8080/"
        },
        "id": "OcjcX9EnoxdB",
        "outputId": "da4089ca-047b-4309-9454-6261f73794ad"
      },
      "execution_count": 2,
      "outputs": [
        {
          "output_type": "stream",
          "name": "stdout",
          "text": [
            "Welcome to the Currency Converter!\n",
            "Available Currencies:\n",
            "EUR: 0.9372071227741331\n",
            "JPY: 151.7900656044986\n",
            "BGN: 1.8329896907216496\n",
            "CZK: 23.037488284910967\n",
            "DKK: 6.991377694470478\n",
            "GBP: 0.8168228678537958\n",
            "HUF: 353.514526710403\n",
            "PLN: 4.149953139643862\n",
            "RON: 4.658856607310216\n",
            "SEK: 10.880974695407685\n",
            "CHF: 0.904967197750703\n",
            "ISK: 143.67385192127463\n",
            "NOK: 11.131208997188379\n",
            "TRY: 28.588659793814436\n",
            "AUD: 1.5690721649484536\n",
            "BRL: 4.929615745079663\n",
            "CAD: 1.382755388940956\n",
            "CNY: 7.290909090909091\n",
            "HKD: 7.807778819119026\n",
            "IDR: 15700.000000000002\n",
            "INR: 83.26522961574508\n",
            "KRW: 1324.9484536082475\n",
            "MXN: 17.696344892221184\n",
            "MYR: 4.70796626054358\n",
            "NZD: 1.7002811621368323\n",
            "PHP: 56.08434864104967\n",
            "SGD: 1.3608247422680413\n",
            "THB: 35.99531396438613\n",
            "ZAR: 18.7464854732896\n",
            "Enter the currency code you want to convert from (e.g., USD): cad\n",
            "Enter the currency code you want to convert to (e.g., EUR): inr\n",
            "Enter the amount to convert: 2000\n",
            "2000.0 CAD is equal to 120433.78 INR\n"
          ]
        }
      ]
    }
  ]
}